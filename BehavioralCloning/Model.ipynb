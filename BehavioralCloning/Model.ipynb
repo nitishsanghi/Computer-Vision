{
 "cells": [
  {
   "cell_type": "code",
   "execution_count": 1,
   "metadata": {},
   "outputs": [
    {
     "name": "stderr",
     "output_type": "stream",
     "text": [
      "Using TensorFlow backend.\n"
     ]
    }
   ],
   "source": [
    "# Module Import List\n",
    "import cv2\n",
    "import os\n",
    "import csv\n",
    "import matplotlib.pyplot as plt\n",
    "from numpy import*\n",
    "from keras.models import Sequential\n",
    "from keras.layers import Dense, Activation, Flatten, Dropout, Lambda\n",
    "from keras.layers import Conv2D, MaxPooling2D, convolutional\n",
    "from keras.layers import Convolution2D\n",
    "from keras.callbacks import EarlyStopping # To interrupt if loss not increasing"
   ]
  },
  {
   "cell_type": "code",
   "execution_count": 2,
   "metadata": {
    "collapsed": true
   },
   "outputs": [],
   "source": [
    "# Image Data Accumulator/Separator\n",
    "\n",
    "cil = [] # Centre image list \n",
    "lil = [] # Left image list\n",
    "ril = [] # Right image list\n",
    "%matplotlib inline\n",
    "folder_path = '/Users/nitishsanghi/CarND-Behavioral-Cloning-P3-master/data/IMG/'\n",
    "for filename in os.listdir('/Users/nitishsanghi/CarND-Behavioral-Cloning-P3-master/data/IMG/'):\n",
    "        if filename[0]=='c' or filename[0]=='C':\n",
    "            img = cv2.imread((folder_path+filename))\n",
    "            cil.append((img,filename))\n",
    "        if filename[0]=='r' or filename[0]=='R':\n",
    "            img = cv2.imread((folder_path+filename))\n",
    "            ril.append((img,filename))\n",
    "        if filename[0]=='l' or filename[0]=='L':\n",
    "            img = cv2.imread((folder_path+filename))\n",
    "            lil.append((img,filename))"
   ]
  },
  {
   "cell_type": "code",
   "execution_count": 3,
   "metadata": {
    "collapsed": true
   },
   "outputs": [],
   "source": [
    "# Read CSV file and Parse data\n",
    "yc = []\n",
    "yl = []\n",
    "yr = []\n",
    "\n",
    "with open(('/Users/nitishsanghi/CarND-Behavioral-Cloning-P3-master/data/'+'driving_log.csv'), 'r') as csvfile:\n",
    "    data_log = csv.reader(csvfile, delimiter = ' ') \n",
    "    for c in cil:\n",
    "        for y in data_log:\n",
    "            #print(y)\n",
    "            if len(y)>1 and y[0][4:len(y[0])-1] == c[1] :\n",
    "                yc.append(y[3][0:len(y[3])-1])\n",
    "                break\n",
    "with open(('/Users/nitishsanghi/CarND-Behavioral-Cloning-P3-master/data/'+'driving_log.csv'), 'r') as csvfile:\n",
    "    data_log = csv.reader(csvfile, delimiter = ' ') \n",
    "    for l in lil:\n",
    "        for y in data_log:\n",
    "            #print(y)\n",
    "            if len(y)>1 and y[1][4:len(y[1])-1] == l[1] :\n",
    "                yl.append(y[3][0:len(y[3])-1])\n",
    "                break        \n",
    "with open(('/Users/nitishsanghi/CarND-Behavioral-Cloning-P3-master/data/'+'driving_log.csv'), 'r') as csvfile:\n",
    "    data_log = csv.reader(csvfile, delimiter = ' ') \n",
    "    for r in ril:\n",
    "        for y in data_log:\n",
    "            #print(y)\n",
    "            if len(y)>1 and y[2][4:len(y[2])-1] == r[1] :\n",
    "                yr.append(y[3][0:len(y[3])-1])\n",
    "                break   \n",
    "    "
   ]
  },
  {
   "cell_type": "code",
   "execution_count": 4,
   "metadata": {
    "collapsed": true
   },
   "outputs": [],
   "source": [
    "# Data to Array Conversion\n",
    "\n",
    "X_train_c = zeros(shape = (len(cil),cil[0][0].shape[0],cil[0][0].shape[1],cil[0][0].shape[2]))\n",
    "X_train_l = zeros(shape = (len(cil),cil[0][0].shape[0],cil[0][0].shape[1],cil[0][0].shape[2]))\n",
    "X_train_r = zeros(shape = (len(cil),cil[0][0].shape[0],cil[0][0].shape[1],cil[0][0].shape[2]))\n",
    "L_train_c = chararray(len(cil))\n",
    "L_train_l = chararray(len(cil))\n",
    "L_train_r = chararray(len(cil))\n",
    "y_train_c = zeros(len(cil))\n",
    "y_train_l = zeros(len(cil))\n",
    "y_train_r = zeros(len(cil))\n",
    "\n",
    "for i in range(len(cil)):\n",
    "    X_train_c[i] = (cil[i][0])\n",
    "    X_train_l[i] = (lil[i][0])\n",
    "    X_train_r[i] = (ril[i][0])\n",
    "    L_train_c[i] = (cil[i][1])\n",
    "    L_train_l[i] = (lil[i][1])\n",
    "    L_train_r[i] = (ril[i][1])\n",
    "    y_train_c[i] = (yc[i])\n",
    "    y_train_l[i] = (yl[i])\n",
    "    y_train_r[i] = (yr[i])\n",
    "           "
   ]
  },
  {
   "cell_type": "code",
   "execution_count": 5,
   "metadata": {},
   "outputs": [
    {
     "name": "stdout",
     "output_type": "stream",
     "text": [
      "(8036, 160, 320, 3)\n",
      "(8036, 160, 320, 3)\n",
      "(8036, 160, 320, 3)\n",
      "(8036,)\n",
      "(8036,)\n",
      "(8036,)\n",
      "(8036,)\n",
      "(8036,)\n",
      "(8036,)\n"
     ]
    }
   ],
   "source": [
    "print(X_train_c.shape)\n",
    "print(X_train_l.shape)\n",
    "print(X_train_r.shape)\n",
    "print(L_train_c.shape)\n",
    "print(L_train_l.shape)\n",
    "print(L_train_r.shape)\n",
    "print(y_train_c.shape)\n",
    "print(y_train_l.shape)\n",
    "print(y_train_r.shape)"
   ]
  },
  {
   "cell_type": "code",
   "execution_count": null,
   "metadata": {
    "collapsed": true
   },
   "outputs": [],
   "source": [
    "# Network Top level Hyperparameters\n",
    "\n",
    "batch_size = 128\n",
    "epochs = 10"
   ]
  },
  {
   "cell_type": "code",
   "execution_count": null,
   "metadata": {
    "collapsed": true
   },
   "outputs": [],
   "source": []
  },
  {
   "cell_type": "code",
   "execution_count": null,
   "metadata": {
    "scrolled": true
   },
   "outputs": [
    {
     "name": "stderr",
     "output_type": "stream",
     "text": [
      "/Users/nitishsanghi/miniconda3/envs/carnd-term1/lib/python3.5/site-packages/keras/models.py:834: UserWarning: The `nb_epoch` argument in `fit` has been renamed `epochs`.\n",
      "  warnings.warn('The `nb_epoch` argument in `fit` '\n"
     ]
    },
    {
     "name": "stdout",
     "output_type": "stream",
     "text": [
      "Train on 6428 samples, validate on 1608 samples\n",
      "Epoch 1/10\n",
      "6428/6428 [==============================] - 126s - loss: 209.5821 - val_loss: 0.2171\n",
      "Epoch 2/10\n",
      "6428/6428 [==============================] - 97s - loss: 0.1494 - val_loss: 0.0758\n",
      "Epoch 3/10\n",
      "6428/6428 [==============================] - 95s - loss: 0.0606 - val_loss: 0.0524\n",
      "Epoch 4/10\n",
      "6428/6428 [==============================] - 86s - loss: 0.0335 - val_loss: 0.0249\n",
      "Epoch 5/10\n",
      "2336/6428 [=========>....................] - ETA: 52s - loss: 0.0225"
     ]
    }
   ],
   "source": [
    "# Creating a densely connected network\n",
    "\n",
    "\n",
    "model = Sequential()\n",
    "model.add(Lambda(lambda x: (x - 128)/255.0, input_shape = X_train_c.shape[1:]))\n",
    "\n",
    "model.add(Flatten(input_shape=X_train_c.shape[1:]))\n",
    "model.add(Dense(120))\n",
    "model.add(Dense(40))\n",
    "model.add(Dense(1))\n",
    "\n",
    "          \n",
    "model.compile(loss = 'mse', optimizer = 'adam')\n",
    "model.fit(X_train_c, y_train_c, validation_split = 0.2, shuffle = True, nb_epoch = epochs)\n",
    "\n",
    "model.save('model.h5')\n",
    "exit()\n",
    "          \n"
   ]
  },
  {
   "cell_type": "code",
   "execution_count": null,
   "metadata": {},
   "outputs": [],
   "source": [
    "\n",
    "model.add(Conv2D(8, (3,3), padding='valid', input_shape = X_train_c.shape[1:]))\n",
    "model.add(Activation('relu'))\n",
    "model.add(Conv2D(16, (3,3)))\n",
    "model.add(Activation('relu'))\n",
    "model.add(Conv2D(32, (3,3)))\n",
    "model.add(Activation('relu'))\n",
    "model.add(Conv2D(64, (3,3)))\n",
    "model.add(Activation('relu'))\n",
    "model.add(MaxPooling2D(pool_size =(2,2)))\n",
    "model.add(Flatten())\n",
    "model.add(Dense(120))\n",
    "model.add(Dense(84))\n",
    "model.add(Dense(1))"
   ]
  },
  {
   "cell_type": "code",
   "execution_count": null,
   "metadata": {
    "collapsed": true
   },
   "outputs": [],
   "source": []
  }
 ],
 "metadata": {
  "anaconda-cloud": {},
  "kernelspec": {
   "display_name": "Python [conda env:carnd-term1]",
   "language": "python",
   "name": "conda-env-carnd-term1-py"
  },
  "language_info": {
   "codemirror_mode": {
    "name": "ipython",
    "version": 3
   },
   "file_extension": ".py",
   "mimetype": "text/x-python",
   "name": "python",
   "nbconvert_exporter": "python",
   "pygments_lexer": "ipython3",
   "version": "3.5.2"
  },
  "widgets": {
   "state": {},
   "version": "1.1.2"
  }
 },
 "nbformat": 4,
 "nbformat_minor": 2
}
